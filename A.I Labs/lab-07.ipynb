{
 "cells": [
  {
   "cell_type": "code",
   "execution_count": 2,
   "id": "0838303a",
   "metadata": {},
   "outputs": [
    {
     "name": "stdout",
     "output_type": "stream",
     "text": [
      "   \t      \t                    fitness                    \t                      size                     \n",
      "   \t      \t-----------------------------------------------\t-----------------------------------------------\n",
      "gen\tnevals\tavg    \tgen\tmax   \tmin    \tnevals\tstd    \tavg    \tgen\tmax\tmin\tnevals\tstd    \n",
      "0  \t450   \t65.3059\t0  \t106.21\t41.3678\t450   \t10.3394\t3.73556\t0  \t7  \t2  \t450   \t1.62449\n",
      "1  \t238   \t62.0487\t1  \t1216.72\t41.8757\t238   \t55.0655\t3.80444\t1  \t10 \t1  \t238   \t1.77813\n",
      "2  \t232   \t55.6696\t2  \t79.6906\t41.5774\t232   \t7.4513 \t3.96889\t2  \t13 \t1  \t232   \t1.87946\n",
      "3  \t248   \t52.9092\t3  \t88.0317\t41.5774\t248   \t7.83529\t4.17333\t3  \t13 \t1  \t248   \t1.83574\n",
      "4  \t232   \t50.9084\t4  \t104.865\t32.714 \t232   \t9.00519\t4.87556\t4  \t13 \t1  \t232   \t2.12552\n",
      "5  \t208   \t47.6437\t5  \t97.69  \t32.714 \t208   \t7.60911\t5.52444\t5  \t15 \t1  \t208   \t2.4323 \n",
      "6  \t218   \t45.7589\t6  \t149.31 \t32.714 \t218   \t9.39208\t6.68667\t6  \t15 \t1  \t218   \t2.82088\n",
      "7  \t231   \t43.4631\t7  \t104.865\t26.5704\t231   \t9.41258\t7.89333\t7  \t19 \t1  \t231   \t3.3196 \n",
      "8  \t224   \t41.3779\t8  \t161.511\t18.1649\t224   \t11.2545\t9.32222\t8  \t28 \t1  \t224   \t3.96156\n",
      "9  \t223   \t39.3688\t9  \t187.904\t15.1825\t223   \t14.034 \t10.7533\t9  \t28 \t1  \t223   \t3.98152\n",
      "10 \t235   \t37.5933\t10 \t258.588\t14.3541\t235   \t17.6524\t12.1467\t10 \t30 \t1  \t235   \t4.4866 \n"
     ]
    }
   ],
   "source": [
    "import operator\n",
    "import math\n",
    "import random\n",
    "import numpy as np\n",
    "from deap import algorithms, base, creator, tools, gp\n",
    "\n",
    "def division_operator(numerator, denominator):\n",
    "    if denominator == 0:\n",
    "        return 1\n",
    "    return numerator / denominator\n",
    "\n",
    "def eval_func(individual, points):\n",
    "    func = toolbox.compile(expr=individual)\n",
    "    errors = [(func(x) - 5*x**3 + 6*x**2 - 8*x + 1)**2 for x in points]\n",
    "    return math.fsum(errors) / len(points),\n",
    "\n",
    "def create_toolbox():\n",
    "    pset = gp.PrimitiveSet(\"MAIN\", 1)\n",
    "    pset.addPrimitive(operator.add, 2)\n",
    "    pset.addPrimitive(operator.sub, 2)\n",
    "    pset.addPrimitive(operator.mul, 2)\n",
    "    pset.addPrimitive(division_operator, 2)\n",
    "    pset.addPrimitive(operator.neg, 1)\n",
    "    pset.addPrimitive(math.cos, 1)\n",
    "    pset.addPrimitive(math.sin, 1)\n",
    "    pset.addEphemeralConstant(\"rand101\", lambda: random.randint(-1,1))\n",
    "    pset.renameArguments(ARG0='x')\n",
    "    creator.create(\"FitnessMin\", base.Fitness, weights=(-1.0,))\n",
    "    creator.create(\"Individual\", gp.PrimitiveTree, fitness=creator.FitnessMin)\n",
    "    toolbox = base.Toolbox()\n",
    "    toolbox.register(\"expr\", gp.genHalfAndHalf, pset=pset, min_=1, max_=2)\n",
    "    toolbox.register(\"individual\", tools.initIterate, creator.Individual, toolbox.expr)\n",
    "    toolbox.register(\"population\", tools.initRepeat, list, toolbox.individual)\n",
    "    toolbox.register(\"compile\", gp.compile, pset=pset)\n",
    "    toolbox.register(\"evaluate\", eval_func, points=[x/10. for x in range(-10,10)])\n",
    "    toolbox.register(\"select\", tools.selTournament, tournsize=3)\n",
    "    toolbox.register(\"mate\", gp.cxOnePoint)\n",
    "    toolbox.register(\"expr_mut\", gp.genFull, min_=0, max_=2)\n",
    "    toolbox.register(\"mutate\", gp.mutUniform, expr=toolbox.expr_mut, pset=pset)\n",
    "    toolbox.decorate(\"mate\", gp.staticLimit(key=operator.attrgetter(\"height\"), max_value=17))\n",
    "    toolbox.decorate(\"mutate\", gp.staticLimit(key=operator.attrgetter(\"height\"), max_value=17))\n",
    "    return toolbox\n",
    "\n",
    "if __name__ == \"__main__\":\n",
    "    random.seed(7)\n",
    "    toolbox = create_toolbox()\n",
    "    population = toolbox.population(n=450)\n",
    "    hall_of_fame = tools.HallOfFame(1)\n",
    "    stats_fit = tools.Statistics(lambda ind: ind.fitness.values)\n",
    "    stats_size = tools.Statistics(len)\n",
    "    mstats = tools.MultiStatistics(fitness=stats_fit, size=stats_size)\n",
    "    mstats.register(\"avg\", np.mean)\n",
    "    mstats.register(\"std\", np.std)\n",
    "    mstats.register(\"min\", np.min)\n",
    "    mstats.register(\"max\", np.max)\n",
    "    probab_crossover = 0.4\n",
    "    probab_mutate = 0.2\n",
    "    number_gen = 10\n",
    "    population, log = algorithms.eaSimple(population, toolbox,\n",
    "        cxpb=probab_crossover, mutpb=probab_mutate, ngen=number_gen,\n",
    "        stats=mstats, halloffame=hall_of_fame, verbose=True)\n"
   ]
  },
  {
   "cell_type": "code",
   "execution_count": null,
   "id": "569389fe",
   "metadata": {},
   "outputs": [],
   "source": []
  }
 ],
 "metadata": {
  "kernelspec": {
   "display_name": "Python 3 (ipykernel)",
   "language": "python",
   "name": "python3"
  },
  "language_info": {
   "codemirror_mode": {
    "name": "ipython",
    "version": 3
   },
   "file_extension": ".py",
   "mimetype": "text/x-python",
   "name": "python",
   "nbconvert_exporter": "python",
   "pygments_lexer": "ipython3",
   "version": "3.9.13"
  }
 },
 "nbformat": 4,
 "nbformat_minor": 5
}
