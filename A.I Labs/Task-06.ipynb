{
 "cells": [
  {
   "cell_type": "code",
   "execution_count": 3,
   "id": "b1f27a78",
   "metadata": {},
   "outputs": [],
   "source": [
    "#Lab 06"
   ]
  },
  {
   "cell_type": "code",
   "execution_count": 4,
   "id": "209fcafc",
   "metadata": {},
   "outputs": [],
   "source": [
    "# a.) To Implement a program to solve traveling salesman problems"
   ]
  },
  {
   "cell_type": "code",
   "execution_count": 9,
   "id": "87f37d7b",
   "metadata": {},
   "outputs": [
    {
     "name": "stdout",
     "output_type": "stream",
     "text": [
      "Minimum cost =  80\n"
     ]
    }
   ],
   "source": [
    "from sys import maxsize\n",
    "\n",
    "V = 4\n",
    "def travellingSalesmanProblem(graph, s):\n",
    "    # store all vertex apart from source vertex\n",
    "    vertex = []\n",
    "    for i in range(V):\n",
    "        if i != s:\n",
    "            vertex.append(i)\n",
    "    # store minimum weight Hamiltonian Cycle\n",
    "    min_path = maxsize\n",
    "\n",
    "    while True:\n",
    "        # store current Path weight(cost)\n",
    "        current_pathweight = 0\n",
    "        # compute current path weight\n",
    "        k = s\n",
    "        for i in range(len(vertex)):\n",
    "            current_pathweight += graph[k][vertex[i]]\n",
    "            k = vertex[i]\n",
    "        current_pathweight += graph[k][s]\n",
    "        # update minimum\n",
    "        min_path = min(min_path, current_pathweight)\n",
    "        if not next_permutation(vertex):\n",
    "            break\n",
    "    return min_path\n",
    "    # next_permutation implementation\n",
    "\n",
    "def next_permutation(L):\n",
    "    n = len(L)\n",
    "    i = n - 2\n",
    "    while i >= 0 and L[i] >= L[i + 1]:\n",
    "        i -= 1\n",
    "    if i == -1:\n",
    "        return False\n",
    "    j = i + 1\n",
    "    while j < n and L[j] > L[i]:\n",
    "        j += 1\n",
    "    j -= 1\n",
    "    L[i], L[j] = L[j], L[i]\n",
    "    left = i + 1\n",
    "    right = n - 1\n",
    "    while left < right:\n",
    "        L[left], L[right] = L[right], L[left]\n",
    "        left += 1\n",
    "        right -= 1\n",
    "    return True\n",
    "\n",
    "# Driver Code\n",
    "if __name__ == \"__main__\":\n",
    "    # matrix representation of graph\n",
    "    graph = [[0, 10, 15, 20], [10, 0, 35, 25],\n",
    "             [15, 35, 0, 30], [20, 25, 30, 0]]\n",
    "    s = 0\n",
    "    print(\"Minimum cost = \",travellingSalesmanProblem(graph, s))\n"
   ]
  },
  {
   "cell_type": "code",
   "execution_count": 4,
   "id": "298beec9",
   "metadata": {},
   "outputs": [],
   "source": [
    "# b.) To implement the tower of Hanoi problem"
   ]
  },
  {
   "cell_type": "code",
   "execution_count": 2,
   "id": "b54eefa4",
   "metadata": {},
   "outputs": [
    {
     "name": "stdout",
     "output_type": "stream",
     "text": [
      "When no. of disks = 2: \n",
      "Move disk 1 from A to B\n",
      "Move disk 2 from A to C\n",
      "Move disk 1 from B to C\n",
      "\n",
      "\n",
      "When no. of disks = 3: \n",
      "Move disk 1 from A to C\n",
      "Move disk 2 from A to B\n",
      "Move disk 1 from C to B\n",
      "Move disk 3 from A to C\n",
      "Move disk 1 from B to A\n",
      "Move disk 2 from B to C\n",
      "Move disk 1 from A to C\n"
     ]
    }
   ],
   "source": [
    "def TowerOfHanoi(n, source, destination, auxiliary):\n",
    "    if n == 1:\n",
    "        # Base case: If there's only one disk, move it from source to destination.\n",
    "        print(f\"Move disk 1 from {source} to {destination}\")\n",
    "        return\n",
    "    \n",
    "    # Recursively move n-1 disks from source to auxiliary.\n",
    "    TowerOfHanoi(n-1, source, auxiliary, destination)\n",
    "    \n",
    "    # Move the n-th disk from source to destination.\n",
    "    print(f\"Move disk {n} from {source} to {destination}\")\n",
    "    \n",
    "    # Recursively move the n-1 disks from auxiliary to destination.\n",
    "    TowerOfHanoi(n-1, auxiliary, destination, source)\n",
    "\n",
    "# Driver code\n",
    "n = 2\n",
    "print(\"When no. of disks = 2: \")\n",
    "TowerOfHanoi(n, 'A', 'C', 'B')\n",
    "# A, C, B are the name of rods\n",
    "print(\"\\n\")\n",
    "\n",
    "print(\"When no. of disks = 3: \")\n",
    "n = 3\n",
    "TowerOfHanoi(n, 'A', 'C', 'B')\n"
   ]
  },
  {
   "cell_type": "code",
   "execution_count": null,
   "id": "852068ff",
   "metadata": {},
   "outputs": [],
   "source": []
  }
 ],
 "metadata": {
  "kernelspec": {
   "display_name": "Python 3 (ipykernel)",
   "language": "python",
   "name": "python3"
  },
  "language_info": {
   "codemirror_mode": {
    "name": "ipython",
    "version": 3
   },
   "file_extension": ".py",
   "mimetype": "text/x-python",
   "name": "python",
   "nbconvert_exporter": "python",
   "pygments_lexer": "ipython3",
   "version": "3.9.13"
  }
 },
 "nbformat": 4,
 "nbformat_minor": 5
}
